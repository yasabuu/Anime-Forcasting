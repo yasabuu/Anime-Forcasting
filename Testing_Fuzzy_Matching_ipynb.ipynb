{
  "cells": [
    {
      "cell_type": "markdown",
      "metadata": {
        "id": "view-in-github",
        "colab_type": "text"
      },
      "source": [
        "<a href=\"https://colab.research.google.com/github/yasabuu/Anime-Forcasting/blob/main/Testing_Fuzzy_Matching_ipynb.ipynb\" target=\"_parent\"><img src=\"https://colab.research.google.com/assets/colab-badge.svg\" alt=\"Open In Colab\"/></a>"
      ]
    },
    {
      "cell_type": "code",
      "execution_count": null,
      "metadata": {
        "colab": {
          "base_uri": "https://localhost:8080/"
        },
        "id": "0gOlQ_-8L2ff",
        "outputId": "3ecb9928-0b39-4594-875f-9e0ec1b687f0"
      },
      "outputs": [
        {
          "output_type": "stream",
          "name": "stdout",
          "text": [
            "Requirement already satisfied: rapidfuzz in /usr/local/lib/python3.10/dist-packages (3.10.0)\n"
          ]
        }
      ],
      "source": [
        "!pip install rapidfuzz"
      ]
    },
    {
      "cell_type": "code",
      "execution_count": null,
      "metadata": {
        "id": "53L0tQ1VK7uW"
      },
      "outputs": [],
      "source": [
        "import pandas as pd\n",
        "from rapidfuzz import fuzz, process"
      ]
    },
    {
      "cell_type": "code",
      "execution_count": null,
      "metadata": {
        "id": "uViNXIptLNin"
      },
      "outputs": [],
      "source": [
        "# data to dataframe\n",
        "# netflix data\n",
        "\n",
        "#anilist data"
      ]
    },
    {
      "cell_type": "code",
      "execution_count": null,
      "metadata": {
        "id": "rXzSfyWfBpFp"
      },
      "outputs": [],
      "source": [
        "#first we import libraries to use\n",
        "import pandas as pd\n",
        "from google.colab import auth\n",
        "import pandas_gbq\n",
        "\n",
        "# Will collect credentials\n",
        "auth.authenticate_user()"
      ]
    },
    {
      "cell_type": "code",
      "execution_count": null,
      "metadata": {
        "colab": {
          "base_uri": "https://localhost:8080/"
        },
        "id": "YtXJsQtrBvQB",
        "outputId": "881c4137-39a6-488c-be26-e68a64187622"
      },
      "outputs": [
        {
          "output_type": "stream",
          "name": "stdout",
          "text": [
            "Downloading: 100%|\u001b[32m██████████\u001b[0m|\n"
          ]
        }
      ],
      "source": [
        "#Query Bigquery\n",
        "query = \"SELECT * FROM `anime-forecasting.anime_datasets.cleaned-netflix-anime-only-2023`\"\n",
        "netflix_df_23 = pandas_gbq.read_gbq(query, project_id=\"anime-forecasting\")"
      ]
    },
    {
      "cell_type": "code",
      "source": [
        "netflix_df_23.isnull().sum()"
      ],
      "metadata": {
        "colab": {
          "base_uri": "https://localhost:8080/",
          "height": 397
        },
        "id": "7vS7bA4xMDl_",
        "outputId": "0cbb31b3-cd29-4a04-ae59-3f113141147d"
      },
      "execution_count": null,
      "outputs": [
        {
          "output_type": "execute_result",
          "data": {
            "text/plain": [
              "Title                              0\n",
              "title_split                        0\n",
              "title_split_characters            92\n",
              "title_split_characters_extra    2098\n",
              "Available_Globally_                0\n",
              "Release_Date                    2088\n",
              "Hours_Viewed                       0\n",
              "Runtime                         2239\n",
              "Views                           2239\n",
              "netflix_year                       0\n",
              "dtype: int64"
            ],
            "text/html": [
              "<div>\n",
              "<style scoped>\n",
              "    .dataframe tbody tr th:only-of-type {\n",
              "        vertical-align: middle;\n",
              "    }\n",
              "\n",
              "    .dataframe tbody tr th {\n",
              "        vertical-align: top;\n",
              "    }\n",
              "\n",
              "    .dataframe thead th {\n",
              "        text-align: right;\n",
              "    }\n",
              "</style>\n",
              "<table border=\"1\" class=\"dataframe\">\n",
              "  <thead>\n",
              "    <tr style=\"text-align: right;\">\n",
              "      <th></th>\n",
              "      <th>0</th>\n",
              "    </tr>\n",
              "  </thead>\n",
              "  <tbody>\n",
              "    <tr>\n",
              "      <th>Title</th>\n",
              "      <td>0</td>\n",
              "    </tr>\n",
              "    <tr>\n",
              "      <th>title_split</th>\n",
              "      <td>0</td>\n",
              "    </tr>\n",
              "    <tr>\n",
              "      <th>title_split_characters</th>\n",
              "      <td>92</td>\n",
              "    </tr>\n",
              "    <tr>\n",
              "      <th>title_split_characters_extra</th>\n",
              "      <td>2098</td>\n",
              "    </tr>\n",
              "    <tr>\n",
              "      <th>Available_Globally_</th>\n",
              "      <td>0</td>\n",
              "    </tr>\n",
              "    <tr>\n",
              "      <th>Release_Date</th>\n",
              "      <td>2088</td>\n",
              "    </tr>\n",
              "    <tr>\n",
              "      <th>Hours_Viewed</th>\n",
              "      <td>0</td>\n",
              "    </tr>\n",
              "    <tr>\n",
              "      <th>Runtime</th>\n",
              "      <td>2239</td>\n",
              "    </tr>\n",
              "    <tr>\n",
              "      <th>Views</th>\n",
              "      <td>2239</td>\n",
              "    </tr>\n",
              "    <tr>\n",
              "      <th>netflix_year</th>\n",
              "      <td>0</td>\n",
              "    </tr>\n",
              "  </tbody>\n",
              "</table>\n",
              "</div><br><label><b>dtype:</b> int64</label>"
            ]
          },
          "metadata": {},
          "execution_count": 24
        }
      ]
    },
    {
      "cell_type": "code",
      "source": [
        "#Query Bigquery\n",
        "query = \"SELECT * FROM `anime-forecasting.anime_datasets.cleaned-netflix-anime-only-2024-3`\"\n",
        "netflix_df_24 = pandas_gbq.read_gbq(query, project_id=\"anime-forecasting\")"
      ],
      "metadata": {
        "colab": {
          "base_uri": "https://localhost:8080/"
        },
        "id": "pTx0p3aaR33S",
        "outputId": "ea47e362-fdba-44e6-d1fb-176165b3217c"
      },
      "execution_count": null,
      "outputs": [
        {
          "output_type": "stream",
          "name": "stdout",
          "text": [
            "Downloading: 100%|\u001b[32m██████████\u001b[0m|\n"
          ]
        }
      ]
    },
    {
      "cell_type": "code",
      "source": [
        "netflix_df_24.rename(columns={'split': 'title_split'}, inplace=True)\n",
        "netflix_df_24.rename(columns={'split_characters': 'title_split_characters'}, inplace=True)"
      ],
      "metadata": {
        "id": "Le4fRLchYMjV"
      },
      "execution_count": null,
      "outputs": []
    },
    {
      "cell_type": "code",
      "source": [
        "netflix_df_24.shape"
      ],
      "metadata": {
        "colab": {
          "base_uri": "https://localhost:8080/"
        },
        "id": "DfCpATiAMLVx",
        "outputId": "5ed915c3-eba0-453b-9b9f-344d3ac1f0a8"
      },
      "execution_count": null,
      "outputs": [
        {
          "output_type": "execute_result",
          "data": {
            "text/plain": [
              "(24759, 7)"
            ]
          },
          "metadata": {},
          "execution_count": 25
        }
      ]
    },
    {
      "cell_type": "code",
      "source": [
        "netflix_df_24.isnull().sum()"
      ],
      "metadata": {
        "colab": {
          "base_uri": "https://localhost:8080/",
          "height": 303
        },
        "id": "jJs4V9JGL-gG",
        "outputId": "bf2abecb-e992-44ab-8fdf-dcd2985b23e7"
      },
      "execution_count": null,
      "outputs": [
        {
          "output_type": "execute_result",
          "data": {
            "text/plain": [
              "Title                         0\n",
              "title_split                2405\n",
              "title_split_characters    17271\n",
              "Available_Globally_           0\n",
              "Release_Date              16605\n",
              "Hours_Viewed                  0\n",
              "netflix_year                  0\n",
              "dtype: int64"
            ],
            "text/html": [
              "<div>\n",
              "<style scoped>\n",
              "    .dataframe tbody tr th:only-of-type {\n",
              "        vertical-align: middle;\n",
              "    }\n",
              "\n",
              "    .dataframe tbody tr th {\n",
              "        vertical-align: top;\n",
              "    }\n",
              "\n",
              "    .dataframe thead th {\n",
              "        text-align: right;\n",
              "    }\n",
              "</style>\n",
              "<table border=\"1\" class=\"dataframe\">\n",
              "  <thead>\n",
              "    <tr style=\"text-align: right;\">\n",
              "      <th></th>\n",
              "      <th>0</th>\n",
              "    </tr>\n",
              "  </thead>\n",
              "  <tbody>\n",
              "    <tr>\n",
              "      <th>Title</th>\n",
              "      <td>0</td>\n",
              "    </tr>\n",
              "    <tr>\n",
              "      <th>title_split</th>\n",
              "      <td>2405</td>\n",
              "    </tr>\n",
              "    <tr>\n",
              "      <th>title_split_characters</th>\n",
              "      <td>17271</td>\n",
              "    </tr>\n",
              "    <tr>\n",
              "      <th>Available_Globally_</th>\n",
              "      <td>0</td>\n",
              "    </tr>\n",
              "    <tr>\n",
              "      <th>Release_Date</th>\n",
              "      <td>16605</td>\n",
              "    </tr>\n",
              "    <tr>\n",
              "      <th>Hours_Viewed</th>\n",
              "      <td>0</td>\n",
              "    </tr>\n",
              "    <tr>\n",
              "      <th>netflix_year</th>\n",
              "      <td>0</td>\n",
              "    </tr>\n",
              "  </tbody>\n",
              "</table>\n",
              "</div><br><label><b>dtype:</b> int64</label>"
            ]
          },
          "metadata": {},
          "execution_count": 22
        }
      ]
    },
    {
      "cell_type": "code",
      "source": [
        "netflix_df_24 = netflix_df_24.dropna(subset=['title_split'])"
      ],
      "metadata": {
        "id": "oTAAJ2lIMaQe"
      },
      "execution_count": null,
      "outputs": []
    },
    {
      "cell_type": "code",
      "source": [
        "netflix_df_23['netflix_year'] = 2023\n",
        "\n",
        "# Step 2: Add a new column `netflix_year` and set to 2024 for netflix_df_24\n",
        "netflix_df_24['netflix_year'] = 2024\n",
        "\n",
        "netflix_df = pd.concat([netflix_df_24, netflix_df_23])"
      ],
      "metadata": {
        "id": "2K2ZiV6zT36y"
      },
      "execution_count": null,
      "outputs": []
    },
    {
      "cell_type": "code",
      "source": [
        "netflix_df.isnull().sum()"
      ],
      "metadata": {
        "colab": {
          "base_uri": "https://localhost:8080/",
          "height": 397
        },
        "id": "Sp1Lq5YCUHw1",
        "outputId": "07b7013e-0c28-451c-f8f5-1547cad14357"
      },
      "execution_count": null,
      "outputs": [
        {
          "output_type": "execute_result",
          "data": {
            "text/plain": [
              "Title                               0\n",
              "title_split                      2405\n",
              "title_split_characters          17363\n",
              "Available_Globally_                 0\n",
              "Release_Date                    18693\n",
              "Hours_Viewed                        0\n",
              "netflix_year                        0\n",
              "title_split_characters_extra    26857\n",
              "Runtime                         26998\n",
              "Views                           26998\n",
              "dtype: int64"
            ],
            "text/html": [
              "<div>\n",
              "<style scoped>\n",
              "    .dataframe tbody tr th:only-of-type {\n",
              "        vertical-align: middle;\n",
              "    }\n",
              "\n",
              "    .dataframe tbody tr th {\n",
              "        vertical-align: top;\n",
              "    }\n",
              "\n",
              "    .dataframe thead th {\n",
              "        text-align: right;\n",
              "    }\n",
              "</style>\n",
              "<table border=\"1\" class=\"dataframe\">\n",
              "  <thead>\n",
              "    <tr style=\"text-align: right;\">\n",
              "      <th></th>\n",
              "      <th>0</th>\n",
              "    </tr>\n",
              "  </thead>\n",
              "  <tbody>\n",
              "    <tr>\n",
              "      <th>Title</th>\n",
              "      <td>0</td>\n",
              "    </tr>\n",
              "    <tr>\n",
              "      <th>title_split</th>\n",
              "      <td>2405</td>\n",
              "    </tr>\n",
              "    <tr>\n",
              "      <th>title_split_characters</th>\n",
              "      <td>17363</td>\n",
              "    </tr>\n",
              "    <tr>\n",
              "      <th>Available_Globally_</th>\n",
              "      <td>0</td>\n",
              "    </tr>\n",
              "    <tr>\n",
              "      <th>Release_Date</th>\n",
              "      <td>18693</td>\n",
              "    </tr>\n",
              "    <tr>\n",
              "      <th>Hours_Viewed</th>\n",
              "      <td>0</td>\n",
              "    </tr>\n",
              "    <tr>\n",
              "      <th>netflix_year</th>\n",
              "      <td>0</td>\n",
              "    </tr>\n",
              "    <tr>\n",
              "      <th>title_split_characters_extra</th>\n",
              "      <td>26857</td>\n",
              "    </tr>\n",
              "    <tr>\n",
              "      <th>Runtime</th>\n",
              "      <td>26998</td>\n",
              "    </tr>\n",
              "    <tr>\n",
              "      <th>Views</th>\n",
              "      <td>26998</td>\n",
              "    </tr>\n",
              "  </tbody>\n",
              "</table>\n",
              "</div><br><label><b>dtype:</b> int64</label>"
            ]
          },
          "metadata": {},
          "execution_count": 21
        }
      ]
    },
    {
      "cell_type": "code",
      "source": [
        "#Query Bigquery\n",
        "query = \"SELECT * FROM `anime-forecasting.Anilist_dataset.anilist_main_table`\"\n",
        "anilist_df = pandas_gbq.read_gbq(query, project_id=\"anime-forecasting\")"
      ],
      "metadata": {
        "colab": {
          "base_uri": "https://localhost:8080/"
        },
        "id": "perGscRRSETn",
        "outputId": "c3f57887-bc0b-48d4-c949-c2fed449c67c"
      },
      "execution_count": null,
      "outputs": [
        {
          "output_type": "stream",
          "name": "stdout",
          "text": [
            "Downloading: 100%|\u001b[32m██████████\u001b[0m|\n"
          ]
        }
      ]
    },
    {
      "cell_type": "code",
      "source": [
        "anilist_df.isnull().sum()"
      ],
      "metadata": {
        "colab": {
          "base_uri": "https://localhost:8080/",
          "height": 774
        },
        "id": "kW3CFq2MNlJa",
        "outputId": "88cca789-e217-4dbb-971f-71c8338f12ad"
      },
      "execution_count": null,
      "outputs": [
        {
          "output_type": "execute_result",
          "data": {
            "text/plain": [
              "id                            0\n",
              "idMal                         0\n",
              "title                         0\n",
              "format                        0\n",
              "episodes                      0\n",
              "duration                      0\n",
              "status                        0\n",
              "startDay                      0\n",
              "startMonth                    0\n",
              "startYear                     0\n",
              "meanScore                     0\n",
              "popularity                    0\n",
              "favourites                    0\n",
              "genres                        0\n",
              "scoreDistribution_amount      0\n",
              "scoreDistribution_score       0\n",
              "statusDistribution_score      0\n",
              "statusDistribution_status     0\n",
              "rankings_context              0\n",
              "tags                         11\n",
              "start_date                    0\n",
              "external_sites                0\n",
              "dtype: int64"
            ],
            "text/html": [
              "<div>\n",
              "<style scoped>\n",
              "    .dataframe tbody tr th:only-of-type {\n",
              "        vertical-align: middle;\n",
              "    }\n",
              "\n",
              "    .dataframe tbody tr th {\n",
              "        vertical-align: top;\n",
              "    }\n",
              "\n",
              "    .dataframe thead th {\n",
              "        text-align: right;\n",
              "    }\n",
              "</style>\n",
              "<table border=\"1\" class=\"dataframe\">\n",
              "  <thead>\n",
              "    <tr style=\"text-align: right;\">\n",
              "      <th></th>\n",
              "      <th>0</th>\n",
              "    </tr>\n",
              "  </thead>\n",
              "  <tbody>\n",
              "    <tr>\n",
              "      <th>id</th>\n",
              "      <td>0</td>\n",
              "    </tr>\n",
              "    <tr>\n",
              "      <th>idMal</th>\n",
              "      <td>0</td>\n",
              "    </tr>\n",
              "    <tr>\n",
              "      <th>title</th>\n",
              "      <td>0</td>\n",
              "    </tr>\n",
              "    <tr>\n",
              "      <th>format</th>\n",
              "      <td>0</td>\n",
              "    </tr>\n",
              "    <tr>\n",
              "      <th>episodes</th>\n",
              "      <td>0</td>\n",
              "    </tr>\n",
              "    <tr>\n",
              "      <th>duration</th>\n",
              "      <td>0</td>\n",
              "    </tr>\n",
              "    <tr>\n",
              "      <th>status</th>\n",
              "      <td>0</td>\n",
              "    </tr>\n",
              "    <tr>\n",
              "      <th>startDay</th>\n",
              "      <td>0</td>\n",
              "    </tr>\n",
              "    <tr>\n",
              "      <th>startMonth</th>\n",
              "      <td>0</td>\n",
              "    </tr>\n",
              "    <tr>\n",
              "      <th>startYear</th>\n",
              "      <td>0</td>\n",
              "    </tr>\n",
              "    <tr>\n",
              "      <th>meanScore</th>\n",
              "      <td>0</td>\n",
              "    </tr>\n",
              "    <tr>\n",
              "      <th>popularity</th>\n",
              "      <td>0</td>\n",
              "    </tr>\n",
              "    <tr>\n",
              "      <th>favourites</th>\n",
              "      <td>0</td>\n",
              "    </tr>\n",
              "    <tr>\n",
              "      <th>genres</th>\n",
              "      <td>0</td>\n",
              "    </tr>\n",
              "    <tr>\n",
              "      <th>scoreDistribution_amount</th>\n",
              "      <td>0</td>\n",
              "    </tr>\n",
              "    <tr>\n",
              "      <th>scoreDistribution_score</th>\n",
              "      <td>0</td>\n",
              "    </tr>\n",
              "    <tr>\n",
              "      <th>statusDistribution_score</th>\n",
              "      <td>0</td>\n",
              "    </tr>\n",
              "    <tr>\n",
              "      <th>statusDistribution_status</th>\n",
              "      <td>0</td>\n",
              "    </tr>\n",
              "    <tr>\n",
              "      <th>rankings_context</th>\n",
              "      <td>0</td>\n",
              "    </tr>\n",
              "    <tr>\n",
              "      <th>tags</th>\n",
              "      <td>11</td>\n",
              "    </tr>\n",
              "    <tr>\n",
              "      <th>start_date</th>\n",
              "      <td>0</td>\n",
              "    </tr>\n",
              "    <tr>\n",
              "      <th>external_sites</th>\n",
              "      <td>0</td>\n",
              "    </tr>\n",
              "  </tbody>\n",
              "</table>\n",
              "</div><br><label><b>dtype:</b> int64</label>"
            ]
          },
          "metadata": {},
          "execution_count": 33
        }
      ]
    },
    {
      "cell_type": "code",
      "source": [
        "import pandas as pd\n",
        "from rapidfuzz import process, fuzz\n",
        "\n",
        "# Function to find the closest match from anilist_titles using RapidFuzz\n",
        "def match_title(row, anilist_titles, anilist_ids):\n",
        "    title_to_match = row['title_split']\n",
        "    match, score, index = process.extractOne(title_to_match, anilist_titles, scorer=fuzz.ratio)\n",
        "\n",
        "    if score > 90:  # Adjust the threshold as needed\n",
        "          return anilist_ids[index]  # Return the corresponding id from anilist_ids\n",
        "    else:\n",
        "          return None\n",
        "# Create a list of titles and ids from anilist_df for matching\n",
        "anilist_titles = anilist_df['title'].tolist()  # Titles from anilist_df\n",
        "anilist_ids = anilist_df['id'].tolist()  # Corresponding ids from anilist_df\n",
        "\n",
        "# Apply the match_title function to each row in netflix_df to find and assign the id\n",
        "netflix_df['id'] = netflix_df.apply(match_title, anilist_titles=anilist_titles, anilist_ids=anilist_ids, axis=1)\n"
      ],
      "metadata": {
        "id": "enQmau4NW5a9"
      },
      "execution_count": null,
      "outputs": []
    },
    {
      "cell_type": "code",
      "source": [
        "netflix_df.shape"
      ],
      "metadata": {
        "id": "dtaa0ZldXpvc"
      },
      "execution_count": null,
      "outputs": []
    },
    {
      "cell_type": "code",
      "execution_count": null,
      "metadata": {
        "id": "yXGtjC04B_un",
        "colab": {
          "base_uri": "https://localhost:8080/"
        },
        "outputId": "d59e7112-5723-4c7b-8592-34f4fe2ee206"
      },
      "outputs": [
        {
          "output_type": "stream",
          "name": "stdout",
          "text": [
            "Downloading: 100%|\u001b[32m██████████\u001b[0m|\n"
          ]
        }
      ],
      "source": [
        "#Query Bigquery\n",
        "query = \"SELECT * FROM `anime-forecasting.Kaggle_dataset.Kaggle_data`\"\n",
        "kaggle_df = pandas_gbq.read_gbq(query, project_id=\"anime-forecasting\")"
      ]
    },
    {
      "cell_type": "code",
      "source": [
        "import pandas as pd\n",
        "from rapidfuzz import process, fuzz\n",
        "\n",
        "# Create a function to find the closest match using rapidfuzz\n",
        "def match_title(row, kaggle_titles, kaggle_ids):\n",
        "    title_to_match = row['title_split']\n",
        "    match, score, index = process.extractOne(title_to_match, kaggle_titles, scorer=fuzz.ratio)\n",
        "\n",
        "    # Return the corresponding anime_id if match is good enough (e.g. score > 80)\n",
        "    if score > 90:  # Adjust the threshold as needed\n",
        "        return kaggle_ids[index]\n",
        "    else:\n",
        "        return None\n",
        "\n",
        "# Create a list of titles and anime_ids from kaggle_df for faster processing\n",
        "kaggle_titles = kaggle_df['Name'].tolist()\n",
        "kaggle_ids = kaggle_df['anime_id'].tolist()\n",
        "\n",
        "# Apply the matching function to netflix_df\n",
        "netflix_df['anime_id'] = netflix_df.apply(match_title, kaggle_titles=kaggle_titles, kaggle_ids=kaggle_ids, axis=1)\n",
        "\n",
        "# Now, netflix_df will have a new column 'anime_id' with the matched anime_id or None if no match was found."
      ],
      "metadata": {
        "id": "uOlyALABbwyG"
      },
      "execution_count": null,
      "outputs": []
    },
    {
      "cell_type": "code",
      "source": [
        "netflix_df"
      ],
      "metadata": {
        "colab": {
          "base_uri": "https://localhost:8080/",
          "height": 1000
        },
        "id": "1UYZaXr6SS4Y",
        "outputId": "dc7a683c-a61f-4f02-931a-6989a49e0149"
      },
      "execution_count": null,
      "outputs": [
        {
          "output_type": "execute_result",
          "data": {
            "text/plain": [
              "                                                  Title  \\\n",
              "0                             The Night Agent: Season 1   \n",
              "1                             Ginny & Georgia: Season 2   \n",
              "2                    The Glory: Season 1 // 더 글로리: 시즌 1   \n",
              "3                                   Wednesday: Season 1   \n",
              "4                   Queen Charlotte: A Bridgerton Story   \n",
              "...                                                 ...   \n",
              "2424        Eternal Yesterday: Season 1 // 永遠の昨日: シーズン1   \n",
              "2425             Hi! Come in: Season 3 // 嗨! 營業中: 第 3 季   \n",
              "2426     There Is No Other: Season 1 // 夢中さ、きみに。: シーズン1   \n",
              "2427  Detective Conan - Police school edition Wild P...   \n",
              "2428     Romance Storm Zone: Season 1 // ロマンス暴風域: シーズン1   \n",
              "\n",
              "                                            title_split  \\\n",
              "0                             The Night Agent: Season 1   \n",
              "1                             Ginny & Georgia: Season 2   \n",
              "2                                  The Glory: Season 1    \n",
              "3                                   Wednesday: Season 1   \n",
              "4                   Queen Charlotte: A Bridgerton Story   \n",
              "...                                                 ...   \n",
              "2424                        Eternal Yesterday: Season 1   \n",
              "2425                              Hi! Come in: Season 3   \n",
              "2426                        There Is No Other: Season 1   \n",
              "2427  Detective Conan - Police school edition Wild P...   \n",
              "2428                       Romance Storm Zone: Season 1   \n",
              "\n",
              "     title_split_characters  Available_Globally_ Release_Date  Hours_Viewed  \\\n",
              "0                      None                 True   2023-03-23     812100000   \n",
              "1                      None                 True   2023-01-05     665100000   \n",
              "2               더 글로리: 시즌 1                 True   2022-12-30     622800000   \n",
              "3                      None                 True   2022-11-23     507700000   \n",
              "4                      None                 True   2023-05-04     503000000   \n",
              "...                     ...                  ...          ...           ...   \n",
              "2424           永遠の昨日: シーズン1                False          NaT        200000   \n",
              "2425          嗨! 營業中: 第 3 季                False          NaT        200000   \n",
              "2426        夢中さ、きみに。: シーズン1                False          NaT        200000   \n",
              "2427    名探偵コナン 警察学校編: シーズン1                False          NaT        100000   \n",
              "2428         ロマンス暴風域: シーズン1                False          NaT        100000   \n",
              "\n",
              "      netflix_year title_split_characters_extra  Runtime   Views  anime_id  id  \n",
              "0             2024                          NaN      NaN    <NA>       NaN NaN  \n",
              "1             2024                          NaN      NaN    <NA>       NaN NaN  \n",
              "2             2024                          NaN      NaN    <NA>       NaN NaN  \n",
              "3             2024                          NaN      NaN    <NA>       NaN NaN  \n",
              "4             2024                          NaN      NaN    <NA>       NaN NaN  \n",
              "...            ...                          ...      ...     ...       ...  ..  \n",
              "2424          2023                         None  3:13:00  100000       NaN NaN  \n",
              "2425          2023                         None  3:10:00  100000       NaN NaN  \n",
              "2426          2023                         None  2:00:00  100000       NaN NaN  \n",
              "2427          2023                         None  1:38:00  100000       NaN NaN  \n",
              "2428          2023                         None  2:00:00  100000       NaN NaN  \n",
              "\n",
              "[24783 rows x 12 columns]"
            ],
            "text/html": [
              "\n",
              "  <div id=\"df-61138cbb-4c97-40ad-8c05-508891ecf5c1\" class=\"colab-df-container\">\n",
              "    <div>\n",
              "<style scoped>\n",
              "    .dataframe tbody tr th:only-of-type {\n",
              "        vertical-align: middle;\n",
              "    }\n",
              "\n",
              "    .dataframe tbody tr th {\n",
              "        vertical-align: top;\n",
              "    }\n",
              "\n",
              "    .dataframe thead th {\n",
              "        text-align: right;\n",
              "    }\n",
              "</style>\n",
              "<table border=\"1\" class=\"dataframe\">\n",
              "  <thead>\n",
              "    <tr style=\"text-align: right;\">\n",
              "      <th></th>\n",
              "      <th>Title</th>\n",
              "      <th>title_split</th>\n",
              "      <th>title_split_characters</th>\n",
              "      <th>Available_Globally_</th>\n",
              "      <th>Release_Date</th>\n",
              "      <th>Hours_Viewed</th>\n",
              "      <th>netflix_year</th>\n",
              "      <th>title_split_characters_extra</th>\n",
              "      <th>Runtime</th>\n",
              "      <th>Views</th>\n",
              "      <th>anime_id</th>\n",
              "      <th>id</th>\n",
              "    </tr>\n",
              "  </thead>\n",
              "  <tbody>\n",
              "    <tr>\n",
              "      <th>0</th>\n",
              "      <td>The Night Agent: Season 1</td>\n",
              "      <td>The Night Agent: Season 1</td>\n",
              "      <td>None</td>\n",
              "      <td>True</td>\n",
              "      <td>2023-03-23</td>\n",
              "      <td>812100000</td>\n",
              "      <td>2024</td>\n",
              "      <td>NaN</td>\n",
              "      <td>NaN</td>\n",
              "      <td>&lt;NA&gt;</td>\n",
              "      <td>NaN</td>\n",
              "      <td>NaN</td>\n",
              "    </tr>\n",
              "    <tr>\n",
              "      <th>1</th>\n",
              "      <td>Ginny &amp; Georgia: Season 2</td>\n",
              "      <td>Ginny &amp; Georgia: Season 2</td>\n",
              "      <td>None</td>\n",
              "      <td>True</td>\n",
              "      <td>2023-01-05</td>\n",
              "      <td>665100000</td>\n",
              "      <td>2024</td>\n",
              "      <td>NaN</td>\n",
              "      <td>NaN</td>\n",
              "      <td>&lt;NA&gt;</td>\n",
              "      <td>NaN</td>\n",
              "      <td>NaN</td>\n",
              "    </tr>\n",
              "    <tr>\n",
              "      <th>2</th>\n",
              "      <td>The Glory: Season 1 // 더 글로리: 시즌 1</td>\n",
              "      <td>The Glory: Season 1</td>\n",
              "      <td>더 글로리: 시즌 1</td>\n",
              "      <td>True</td>\n",
              "      <td>2022-12-30</td>\n",
              "      <td>622800000</td>\n",
              "      <td>2024</td>\n",
              "      <td>NaN</td>\n",
              "      <td>NaN</td>\n",
              "      <td>&lt;NA&gt;</td>\n",
              "      <td>NaN</td>\n",
              "      <td>NaN</td>\n",
              "    </tr>\n",
              "    <tr>\n",
              "      <th>3</th>\n",
              "      <td>Wednesday: Season 1</td>\n",
              "      <td>Wednesday: Season 1</td>\n",
              "      <td>None</td>\n",
              "      <td>True</td>\n",
              "      <td>2022-11-23</td>\n",
              "      <td>507700000</td>\n",
              "      <td>2024</td>\n",
              "      <td>NaN</td>\n",
              "      <td>NaN</td>\n",
              "      <td>&lt;NA&gt;</td>\n",
              "      <td>NaN</td>\n",
              "      <td>NaN</td>\n",
              "    </tr>\n",
              "    <tr>\n",
              "      <th>4</th>\n",
              "      <td>Queen Charlotte: A Bridgerton Story</td>\n",
              "      <td>Queen Charlotte: A Bridgerton Story</td>\n",
              "      <td>None</td>\n",
              "      <td>True</td>\n",
              "      <td>2023-05-04</td>\n",
              "      <td>503000000</td>\n",
              "      <td>2024</td>\n",
              "      <td>NaN</td>\n",
              "      <td>NaN</td>\n",
              "      <td>&lt;NA&gt;</td>\n",
              "      <td>NaN</td>\n",
              "      <td>NaN</td>\n",
              "    </tr>\n",
              "    <tr>\n",
              "      <th>...</th>\n",
              "      <td>...</td>\n",
              "      <td>...</td>\n",
              "      <td>...</td>\n",
              "      <td>...</td>\n",
              "      <td>...</td>\n",
              "      <td>...</td>\n",
              "      <td>...</td>\n",
              "      <td>...</td>\n",
              "      <td>...</td>\n",
              "      <td>...</td>\n",
              "      <td>...</td>\n",
              "      <td>...</td>\n",
              "    </tr>\n",
              "    <tr>\n",
              "      <th>2424</th>\n",
              "      <td>Eternal Yesterday: Season 1 // 永遠の昨日: シーズン1</td>\n",
              "      <td>Eternal Yesterday: Season 1</td>\n",
              "      <td>永遠の昨日: シーズン1</td>\n",
              "      <td>False</td>\n",
              "      <td>NaT</td>\n",
              "      <td>200000</td>\n",
              "      <td>2023</td>\n",
              "      <td>None</td>\n",
              "      <td>3:13:00</td>\n",
              "      <td>100000</td>\n",
              "      <td>NaN</td>\n",
              "      <td>NaN</td>\n",
              "    </tr>\n",
              "    <tr>\n",
              "      <th>2425</th>\n",
              "      <td>Hi! Come in: Season 3 // 嗨! 營業中: 第 3 季</td>\n",
              "      <td>Hi! Come in: Season 3</td>\n",
              "      <td>嗨! 營業中: 第 3 季</td>\n",
              "      <td>False</td>\n",
              "      <td>NaT</td>\n",
              "      <td>200000</td>\n",
              "      <td>2023</td>\n",
              "      <td>None</td>\n",
              "      <td>3:10:00</td>\n",
              "      <td>100000</td>\n",
              "      <td>NaN</td>\n",
              "      <td>NaN</td>\n",
              "    </tr>\n",
              "    <tr>\n",
              "      <th>2426</th>\n",
              "      <td>There Is No Other: Season 1 // 夢中さ、きみに。: シーズン1</td>\n",
              "      <td>There Is No Other: Season 1</td>\n",
              "      <td>夢中さ、きみに。: シーズン1</td>\n",
              "      <td>False</td>\n",
              "      <td>NaT</td>\n",
              "      <td>200000</td>\n",
              "      <td>2023</td>\n",
              "      <td>None</td>\n",
              "      <td>2:00:00</td>\n",
              "      <td>100000</td>\n",
              "      <td>NaN</td>\n",
              "      <td>NaN</td>\n",
              "    </tr>\n",
              "    <tr>\n",
              "      <th>2427</th>\n",
              "      <td>Detective Conan - Police school edition Wild P...</td>\n",
              "      <td>Detective Conan - Police school edition Wild P...</td>\n",
              "      <td>名探偵コナン 警察学校編: シーズン1</td>\n",
              "      <td>False</td>\n",
              "      <td>NaT</td>\n",
              "      <td>100000</td>\n",
              "      <td>2023</td>\n",
              "      <td>None</td>\n",
              "      <td>1:38:00</td>\n",
              "      <td>100000</td>\n",
              "      <td>NaN</td>\n",
              "      <td>NaN</td>\n",
              "    </tr>\n",
              "    <tr>\n",
              "      <th>2428</th>\n",
              "      <td>Romance Storm Zone: Season 1 // ロマンス暴風域: シーズン1</td>\n",
              "      <td>Romance Storm Zone: Season 1</td>\n",
              "      <td>ロマンス暴風域: シーズン1</td>\n",
              "      <td>False</td>\n",
              "      <td>NaT</td>\n",
              "      <td>100000</td>\n",
              "      <td>2023</td>\n",
              "      <td>None</td>\n",
              "      <td>2:00:00</td>\n",
              "      <td>100000</td>\n",
              "      <td>NaN</td>\n",
              "      <td>NaN</td>\n",
              "    </tr>\n",
              "  </tbody>\n",
              "</table>\n",
              "<p>24783 rows × 12 columns</p>\n",
              "</div>\n",
              "    <div class=\"colab-df-buttons\">\n",
              "\n",
              "  <div class=\"colab-df-container\">\n",
              "    <button class=\"colab-df-convert\" onclick=\"convertToInteractive('df-61138cbb-4c97-40ad-8c05-508891ecf5c1')\"\n",
              "            title=\"Convert this dataframe to an interactive table.\"\n",
              "            style=\"display:none;\">\n",
              "\n",
              "  <svg xmlns=\"http://www.w3.org/2000/svg\" height=\"24px\" viewBox=\"0 -960 960 960\">\n",
              "    <path d=\"M120-120v-720h720v720H120Zm60-500h600v-160H180v160Zm220 220h160v-160H400v160Zm0 220h160v-160H400v160ZM180-400h160v-160H180v160Zm440 0h160v-160H620v160ZM180-180h160v-160H180v160Zm440 0h160v-160H620v160Z\"/>\n",
              "  </svg>\n",
              "    </button>\n",
              "\n",
              "  <style>\n",
              "    .colab-df-container {\n",
              "      display:flex;\n",
              "      gap: 12px;\n",
              "    }\n",
              "\n",
              "    .colab-df-convert {\n",
              "      background-color: #E8F0FE;\n",
              "      border: none;\n",
              "      border-radius: 50%;\n",
              "      cursor: pointer;\n",
              "      display: none;\n",
              "      fill: #1967D2;\n",
              "      height: 32px;\n",
              "      padding: 0 0 0 0;\n",
              "      width: 32px;\n",
              "    }\n",
              "\n",
              "    .colab-df-convert:hover {\n",
              "      background-color: #E2EBFA;\n",
              "      box-shadow: 0px 1px 2px rgba(60, 64, 67, 0.3), 0px 1px 3px 1px rgba(60, 64, 67, 0.15);\n",
              "      fill: #174EA6;\n",
              "    }\n",
              "\n",
              "    .colab-df-buttons div {\n",
              "      margin-bottom: 4px;\n",
              "    }\n",
              "\n",
              "    [theme=dark] .colab-df-convert {\n",
              "      background-color: #3B4455;\n",
              "      fill: #D2E3FC;\n",
              "    }\n",
              "\n",
              "    [theme=dark] .colab-df-convert:hover {\n",
              "      background-color: #434B5C;\n",
              "      box-shadow: 0px 1px 3px 1px rgba(0, 0, 0, 0.15);\n",
              "      filter: drop-shadow(0px 1px 2px rgba(0, 0, 0, 0.3));\n",
              "      fill: #FFFFFF;\n",
              "    }\n",
              "  </style>\n",
              "\n",
              "    <script>\n",
              "      const buttonEl =\n",
              "        document.querySelector('#df-61138cbb-4c97-40ad-8c05-508891ecf5c1 button.colab-df-convert');\n",
              "      buttonEl.style.display =\n",
              "        google.colab.kernel.accessAllowed ? 'block' : 'none';\n",
              "\n",
              "      async function convertToInteractive(key) {\n",
              "        const element = document.querySelector('#df-61138cbb-4c97-40ad-8c05-508891ecf5c1');\n",
              "        const dataTable =\n",
              "          await google.colab.kernel.invokeFunction('convertToInteractive',\n",
              "                                                    [key], {});\n",
              "        if (!dataTable) return;\n",
              "\n",
              "        const docLinkHtml = 'Like what you see? Visit the ' +\n",
              "          '<a target=\"_blank\" href=https://colab.research.google.com/notebooks/data_table.ipynb>data table notebook</a>'\n",
              "          + ' to learn more about interactive tables.';\n",
              "        element.innerHTML = '';\n",
              "        dataTable['output_type'] = 'display_data';\n",
              "        await google.colab.output.renderOutput(dataTable, element);\n",
              "        const docLink = document.createElement('div');\n",
              "        docLink.innerHTML = docLinkHtml;\n",
              "        element.appendChild(docLink);\n",
              "      }\n",
              "    </script>\n",
              "  </div>\n",
              "\n",
              "\n",
              "<div id=\"df-b227d74f-006e-4c14-bb0f-21f389c281eb\">\n",
              "  <button class=\"colab-df-quickchart\" onclick=\"quickchart('df-b227d74f-006e-4c14-bb0f-21f389c281eb')\"\n",
              "            title=\"Suggest charts\"\n",
              "            style=\"display:none;\">\n",
              "\n",
              "<svg xmlns=\"http://www.w3.org/2000/svg\" height=\"24px\"viewBox=\"0 0 24 24\"\n",
              "     width=\"24px\">\n",
              "    <g>\n",
              "        <path d=\"M19 3H5c-1.1 0-2 .9-2 2v14c0 1.1.9 2 2 2h14c1.1 0 2-.9 2-2V5c0-1.1-.9-2-2-2zM9 17H7v-7h2v7zm4 0h-2V7h2v10zm4 0h-2v-4h2v4z\"/>\n",
              "    </g>\n",
              "</svg>\n",
              "  </button>\n",
              "\n",
              "<style>\n",
              "  .colab-df-quickchart {\n",
              "      --bg-color: #E8F0FE;\n",
              "      --fill-color: #1967D2;\n",
              "      --hover-bg-color: #E2EBFA;\n",
              "      --hover-fill-color: #174EA6;\n",
              "      --disabled-fill-color: #AAA;\n",
              "      --disabled-bg-color: #DDD;\n",
              "  }\n",
              "\n",
              "  [theme=dark] .colab-df-quickchart {\n",
              "      --bg-color: #3B4455;\n",
              "      --fill-color: #D2E3FC;\n",
              "      --hover-bg-color: #434B5C;\n",
              "      --hover-fill-color: #FFFFFF;\n",
              "      --disabled-bg-color: #3B4455;\n",
              "      --disabled-fill-color: #666;\n",
              "  }\n",
              "\n",
              "  .colab-df-quickchart {\n",
              "    background-color: var(--bg-color);\n",
              "    border: none;\n",
              "    border-radius: 50%;\n",
              "    cursor: pointer;\n",
              "    display: none;\n",
              "    fill: var(--fill-color);\n",
              "    height: 32px;\n",
              "    padding: 0;\n",
              "    width: 32px;\n",
              "  }\n",
              "\n",
              "  .colab-df-quickchart:hover {\n",
              "    background-color: var(--hover-bg-color);\n",
              "    box-shadow: 0 1px 2px rgba(60, 64, 67, 0.3), 0 1px 3px 1px rgba(60, 64, 67, 0.15);\n",
              "    fill: var(--button-hover-fill-color);\n",
              "  }\n",
              "\n",
              "  .colab-df-quickchart-complete:disabled,\n",
              "  .colab-df-quickchart-complete:disabled:hover {\n",
              "    background-color: var(--disabled-bg-color);\n",
              "    fill: var(--disabled-fill-color);\n",
              "    box-shadow: none;\n",
              "  }\n",
              "\n",
              "  .colab-df-spinner {\n",
              "    border: 2px solid var(--fill-color);\n",
              "    border-color: transparent;\n",
              "    border-bottom-color: var(--fill-color);\n",
              "    animation:\n",
              "      spin 1s steps(1) infinite;\n",
              "  }\n",
              "\n",
              "  @keyframes spin {\n",
              "    0% {\n",
              "      border-color: transparent;\n",
              "      border-bottom-color: var(--fill-color);\n",
              "      border-left-color: var(--fill-color);\n",
              "    }\n",
              "    20% {\n",
              "      border-color: transparent;\n",
              "      border-left-color: var(--fill-color);\n",
              "      border-top-color: var(--fill-color);\n",
              "    }\n",
              "    30% {\n",
              "      border-color: transparent;\n",
              "      border-left-color: var(--fill-color);\n",
              "      border-top-color: var(--fill-color);\n",
              "      border-right-color: var(--fill-color);\n",
              "    }\n",
              "    40% {\n",
              "      border-color: transparent;\n",
              "      border-right-color: var(--fill-color);\n",
              "      border-top-color: var(--fill-color);\n",
              "    }\n",
              "    60% {\n",
              "      border-color: transparent;\n",
              "      border-right-color: var(--fill-color);\n",
              "    }\n",
              "    80% {\n",
              "      border-color: transparent;\n",
              "      border-right-color: var(--fill-color);\n",
              "      border-bottom-color: var(--fill-color);\n",
              "    }\n",
              "    90% {\n",
              "      border-color: transparent;\n",
              "      border-bottom-color: var(--fill-color);\n",
              "    }\n",
              "  }\n",
              "</style>\n",
              "\n",
              "  <script>\n",
              "    async function quickchart(key) {\n",
              "      const quickchartButtonEl =\n",
              "        document.querySelector('#' + key + ' button');\n",
              "      quickchartButtonEl.disabled = true;  // To prevent multiple clicks.\n",
              "      quickchartButtonEl.classList.add('colab-df-spinner');\n",
              "      try {\n",
              "        const charts = await google.colab.kernel.invokeFunction(\n",
              "            'suggestCharts', [key], {});\n",
              "      } catch (error) {\n",
              "        console.error('Error during call to suggestCharts:', error);\n",
              "      }\n",
              "      quickchartButtonEl.classList.remove('colab-df-spinner');\n",
              "      quickchartButtonEl.classList.add('colab-df-quickchart-complete');\n",
              "    }\n",
              "    (() => {\n",
              "      let quickchartButtonEl =\n",
              "        document.querySelector('#df-b227d74f-006e-4c14-bb0f-21f389c281eb button');\n",
              "      quickchartButtonEl.style.display =\n",
              "        google.colab.kernel.accessAllowed ? 'block' : 'none';\n",
              "    })();\n",
              "  </script>\n",
              "</div>\n",
              "\n",
              "  <div id=\"id_45a9eaed-d04b-4245-bb2b-e2fdd3de6f3f\">\n",
              "    <style>\n",
              "      .colab-df-generate {\n",
              "        background-color: #E8F0FE;\n",
              "        border: none;\n",
              "        border-radius: 50%;\n",
              "        cursor: pointer;\n",
              "        display: none;\n",
              "        fill: #1967D2;\n",
              "        height: 32px;\n",
              "        padding: 0 0 0 0;\n",
              "        width: 32px;\n",
              "      }\n",
              "\n",
              "      .colab-df-generate:hover {\n",
              "        background-color: #E2EBFA;\n",
              "        box-shadow: 0px 1px 2px rgba(60, 64, 67, 0.3), 0px 1px 3px 1px rgba(60, 64, 67, 0.15);\n",
              "        fill: #174EA6;\n",
              "      }\n",
              "\n",
              "      [theme=dark] .colab-df-generate {\n",
              "        background-color: #3B4455;\n",
              "        fill: #D2E3FC;\n",
              "      }\n",
              "\n",
              "      [theme=dark] .colab-df-generate:hover {\n",
              "        background-color: #434B5C;\n",
              "        box-shadow: 0px 1px 3px 1px rgba(0, 0, 0, 0.15);\n",
              "        filter: drop-shadow(0px 1px 2px rgba(0, 0, 0, 0.3));\n",
              "        fill: #FFFFFF;\n",
              "      }\n",
              "    </style>\n",
              "    <button class=\"colab-df-generate\" onclick=\"generateWithVariable('netflix_df')\"\n",
              "            title=\"Generate code using this dataframe.\"\n",
              "            style=\"display:none;\">\n",
              "\n",
              "  <svg xmlns=\"http://www.w3.org/2000/svg\" height=\"24px\"viewBox=\"0 0 24 24\"\n",
              "       width=\"24px\">\n",
              "    <path d=\"M7,19H8.4L18.45,9,17,7.55,7,17.6ZM5,21V16.75L18.45,3.32a2,2,0,0,1,2.83,0l1.4,1.43a1.91,1.91,0,0,1,.58,1.4,1.91,1.91,0,0,1-.58,1.4L9.25,21ZM18.45,9,17,7.55Zm-12,3A5.31,5.31,0,0,0,4.9,8.1,5.31,5.31,0,0,0,1,6.5,5.31,5.31,0,0,0,4.9,4.9,5.31,5.31,0,0,0,6.5,1,5.31,5.31,0,0,0,8.1,4.9,5.31,5.31,0,0,0,12,6.5,5.46,5.46,0,0,0,6.5,12Z\"/>\n",
              "  </svg>\n",
              "    </button>\n",
              "    <script>\n",
              "      (() => {\n",
              "      const buttonEl =\n",
              "        document.querySelector('#id_45a9eaed-d04b-4245-bb2b-e2fdd3de6f3f button.colab-df-generate');\n",
              "      buttonEl.style.display =\n",
              "        google.colab.kernel.accessAllowed ? 'block' : 'none';\n",
              "\n",
              "      buttonEl.onclick = () => {\n",
              "        google.colab.notebook.generateWithVariable('netflix_df');\n",
              "      }\n",
              "      })();\n",
              "    </script>\n",
              "  </div>\n",
              "\n",
              "    </div>\n",
              "  </div>\n"
            ],
            "application/vnd.google.colaboratory.intrinsic+json": {
              "type": "dataframe",
              "variable_name": "netflix_df",
              "summary": "{\n  \"name\": \"netflix_df\",\n  \"rows\": 24783,\n  \"fields\": [\n    {\n      \"column\": \"Title\",\n      \"properties\": {\n        \"dtype\": \"string\",\n        \"num_unique_values\": 18080,\n        \"samples\": [\n          \"\\ub450\\ub2e4\\ub2e4\\ucff5: Season 3\",\n          \"#Selfie 69\",\n          \"A Mighty Team // La Dream Team\"\n        ],\n        \"semantic_type\": \"\",\n        \"description\": \"\"\n      }\n    },\n    {\n      \"column\": \"title_split\",\n      \"properties\": {\n        \"dtype\": \"string\",\n        \"num_unique_values\": 19777,\n        \"samples\": [\n          \"David (2013)\",\n          \"Against the Ropes: Season 1 \",\n          \"Crocodiles \"\n        ],\n        \"semantic_type\": \"\",\n        \"description\": \"\"\n      }\n    },\n    {\n      \"column\": \"title_split_characters\",\n      \"properties\": {\n        \"dtype\": \"category\",\n        \"num_unique_values\": 8500,\n        \"samples\": [\n          \"\\u7532\\u9244\\u57ce\\u306e\\u30ab\\u30d0\\u30cd\\u30ea \\u6d77\\u9580\\u6c7a\\u6226: Limited Series\",\n          \"Steins;Gate \\u30b7\\u30e5\\u30bf\\u30a4\\u30f3\\u30ba\\u30fb\\u30b2\\u30fc\\u30c8\",\n          \"\\u604b\\u306a\\u3093\\u3066\\u3001\\u672c\\u6c17\\u3067\\u3084\\u3063\\u3066\\u3069\\u3046\\u3059\\u308b\\u306e?: \\u30b7\\u30fc\\u30ba\\u30f31\"\n        ],\n        \"semantic_type\": \"\",\n        \"description\": \"\"\n      }\n    },\n    {\n      \"column\": \"Available_Globally_\",\n      \"properties\": {\n        \"dtype\": \"boolean\",\n        \"num_unique_values\": 2,\n        \"samples\": [\n          false,\n          true\n        ],\n        \"semantic_type\": \"\",\n        \"description\": \"\"\n      }\n    },\n    {\n      \"column\": \"Release_Date\",\n      \"properties\": {\n        \"dtype\": \"dbdate\",\n        \"num_unique_values\": 1756,\n        \"samples\": [\n          \"2017-07-19\",\n          \"2023-06-25\"\n        ],\n        \"semantic_type\": \"\",\n        \"description\": \"\"\n      }\n    },\n    {\n      \"column\": \"Hours_Viewed\",\n      \"properties\": {\n        \"dtype\": \"Int64\",\n        \"num_unique_values\": 858,\n        \"samples\": [\n          170800000,\n          7700000\n        ],\n        \"semantic_type\": \"\",\n        \"description\": \"\"\n      }\n    },\n    {\n      \"column\": \"netflix_year\",\n      \"properties\": {\n        \"dtype\": \"number\",\n        \"std\": 0,\n        \"min\": 2023,\n        \"max\": 2024,\n        \"num_unique_values\": 2,\n        \"samples\": [\n          2023,\n          2024\n        ],\n        \"semantic_type\": \"\",\n        \"description\": \"\"\n      }\n    },\n    {\n      \"column\": \"title_split_characters_extra\",\n      \"properties\": {\n        \"dtype\": \"category\",\n        \"num_unique_values\": 329,\n        \"samples\": [\n          \"\\u9526\\u7ee3\\u672a\\u592e: \\u7b2c 1 \\u5b63\",\n          \"\\u4e0d\\u4f1a\\u604b\\u7231\\u7684\\u6211\\u4eec\"\n        ],\n        \"semantic_type\": \"\",\n        \"description\": \"\"\n      }\n    },\n    {\n      \"column\": \"Runtime\",\n      \"properties\": {\n        \"dtype\": \"category\",\n        \"num_unique_values\": 141,\n        \"samples\": [\n          \"0:47:00\",\n          \"23:46:00\"\n        ],\n        \"semantic_type\": \"\",\n        \"description\": \"\"\n      }\n    },\n    {\n      \"column\": \"Views\",\n      \"properties\": {\n        \"dtype\": \"Int64\",\n        \"num_unique_values\": 35,\n        \"samples\": [\n          2200000,\n          13200000\n        ],\n        \"semantic_type\": \"\",\n        \"description\": \"\"\n      }\n    },\n    {\n      \"column\": \"anime_id\",\n      \"properties\": {\n        \"dtype\": \"number\",\n        \"std\": 15793.198981707756,\n        \"min\": 19.0,\n        \"max\": 53613.0,\n        \"num_unique_values\": 73,\n        \"samples\": [\n          22319.0,\n          13601.0\n        ],\n        \"semantic_type\": \"\",\n        \"description\": \"\"\n      }\n    },\n    {\n      \"column\": \"id\",\n      \"properties\": {\n        \"dtype\": \"number\",\n        \"std\": 53216.98211021625,\n        \"min\": 19.0,\n        \"max\": 167087.0,\n        \"num_unique_values\": 187,\n        \"samples\": [\n          154459.0,\n          102977.0\n        ],\n        \"semantic_type\": \"\",\n        \"description\": \"\"\n      }\n    }\n  ]\n}"
            }
          },
          "metadata": {},
          "execution_count": 35
        }
      ]
    },
    {
      "cell_type": "code",
      "source": [
        "netflix_df = netflix_df.drop(['title_split_characters', 'title_split_characters_extra'], axis=1)"
      ],
      "metadata": {
        "id": "rgoVjEJkaDLv"
      },
      "execution_count": null,
      "outputs": []
    },
    {
      "cell_type": "code",
      "execution_count": null,
      "metadata": {
        "id": "CCsndE0cEHkd"
      },
      "outputs": [],
      "source": [
        "no_null_anilist_netflix_df = netflix_df.dropna(subset=['anime_id'])"
      ]
    },
    {
      "cell_type": "code",
      "source": [
        "no_null_kaggle_netflix_df = netflix_df.dropna(subset=['id'])"
      ],
      "metadata": {
        "id": "oJFU4y3ASZmx"
      },
      "execution_count": null,
      "outputs": []
    },
    {
      "cell_type": "code",
      "source": [
        "no_nulls_netflix_df = netflix_df.dropna(subset=['anime_id'])\n",
        "no_null_ids_netflix_df = no_nulls_netflix_df.dropna(subset=['id'])"
      ],
      "metadata": {
        "id": "gXyu8FbkTYXq"
      },
      "execution_count": null,
      "outputs": []
    },
    {
      "cell_type": "code",
      "source": [
        "no_null_ids_netflix_df.isnull().sum()"
      ],
      "metadata": {
        "colab": {
          "base_uri": "https://localhost:8080/",
          "height": 397
        },
        "id": "EfhRkIHZTyuv",
        "outputId": "e41a5d8b-8cea-4af9-fd5c-3ba0a72b9b7c"
      },
      "execution_count": null,
      "outputs": [
        {
          "output_type": "execute_result",
          "data": {
            "text/plain": [
              "Title                    0\n",
              "title_split              0\n",
              "Available_Globally_      0\n",
              "Release_Date            99\n",
              "Hours_Viewed             0\n",
              "netflix_year             0\n",
              "Runtime                102\n",
              "Views                  102\n",
              "anime_id                 0\n",
              "id                       0\n",
              "dtype: int64"
            ],
            "text/html": [
              "<div>\n",
              "<style scoped>\n",
              "    .dataframe tbody tr th:only-of-type {\n",
              "        vertical-align: middle;\n",
              "    }\n",
              "\n",
              "    .dataframe tbody tr th {\n",
              "        vertical-align: top;\n",
              "    }\n",
              "\n",
              "    .dataframe thead th {\n",
              "        text-align: right;\n",
              "    }\n",
              "</style>\n",
              "<table border=\"1\" class=\"dataframe\">\n",
              "  <thead>\n",
              "    <tr style=\"text-align: right;\">\n",
              "      <th></th>\n",
              "      <th>0</th>\n",
              "    </tr>\n",
              "  </thead>\n",
              "  <tbody>\n",
              "    <tr>\n",
              "      <th>Title</th>\n",
              "      <td>0</td>\n",
              "    </tr>\n",
              "    <tr>\n",
              "      <th>title_split</th>\n",
              "      <td>0</td>\n",
              "    </tr>\n",
              "    <tr>\n",
              "      <th>Available_Globally_</th>\n",
              "      <td>0</td>\n",
              "    </tr>\n",
              "    <tr>\n",
              "      <th>Release_Date</th>\n",
              "      <td>99</td>\n",
              "    </tr>\n",
              "    <tr>\n",
              "      <th>Hours_Viewed</th>\n",
              "      <td>0</td>\n",
              "    </tr>\n",
              "    <tr>\n",
              "      <th>netflix_year</th>\n",
              "      <td>0</td>\n",
              "    </tr>\n",
              "    <tr>\n",
              "      <th>Runtime</th>\n",
              "      <td>102</td>\n",
              "    </tr>\n",
              "    <tr>\n",
              "      <th>Views</th>\n",
              "      <td>102</td>\n",
              "    </tr>\n",
              "    <tr>\n",
              "      <th>anime_id</th>\n",
              "      <td>0</td>\n",
              "    </tr>\n",
              "    <tr>\n",
              "      <th>id</th>\n",
              "      <td>0</td>\n",
              "    </tr>\n",
              "  </tbody>\n",
              "</table>\n",
              "</div><br><label><b>dtype:</b> int64</label>"
            ]
          },
          "metadata": {},
          "execution_count": 54
        }
      ]
    },
    {
      "cell_type": "code",
      "execution_count": null,
      "metadata": {
        "id": "GjnBzxjIE_xw"
      },
      "outputs": [],
      "source": [
        "#merged_df = pd.merge(filtered_df, kaggle_df, on='anime_id', how='inner')"
      ]
    },
    {
      "cell_type": "code",
      "execution_count": null,
      "metadata": {
        "id": "5uswMrxQFOY4"
      },
      "outputs": [],
      "source": [
        "#selected_columns_df = merged_df[['title_split', 'anime_id', 'Name']]"
      ]
    },
    {
      "cell_type": "code",
      "execution_count": null,
      "metadata": {
        "id": "hwsMQ9NbFggo"
      },
      "outputs": [],
      "source": [
        "#selected_columns_df.to_csv(\"checking_rapid_fuzz.csv\", index=False)"
      ]
    },
    {
      "cell_type": "code",
      "source": [
        "#selected_columns_df.shape"
      ],
      "metadata": {
        "id": "OCJn7ncRKYbF"
      },
      "execution_count": null,
      "outputs": []
    },
    {
      "cell_type": "code",
      "source": [
        "#netflix_df['anime_id'].notnull().sum()"
      ],
      "metadata": {
        "id": "heoy7v-jLBCj"
      },
      "execution_count": null,
      "outputs": []
    },
    {
      "cell_type": "code",
      "source": [
        "#selected_columns_df.to_csv(\"checking_rapid_fuzz.csv\", index=False)"
      ],
      "metadata": {
        "id": "uzM25CY4LGXb"
      },
      "execution_count": null,
      "outputs": []
    },
    {
      "cell_type": "code",
      "source": [
        "#netflix_df.to_csv(\"netflix_with_anime_id_kaggle.csv\", index=False)"
      ],
      "metadata": {
        "id": "dDX8oAhsLLSd"
      },
      "execution_count": null,
      "outputs": []
    },
    {
      "cell_type": "code",
      "source": [
        "no_null_anilist_netflix_df.to_csv(\"no_null_anilist_netflix_df.csv\", index=False)"
      ],
      "metadata": {
        "id": "zdjUni5NaNWh"
      },
      "execution_count": null,
      "outputs": []
    },
    {
      "cell_type": "code",
      "source": [
        "no_null_kaggle_netflix_df.to_csv(\"no_null_kaggle_netflix_df.csv\", index=False)"
      ],
      "metadata": {
        "id": "Y8xmmD10aPiJ"
      },
      "execution_count": null,
      "outputs": []
    },
    {
      "cell_type": "code",
      "source": [
        "no_null_ids_netflix_df.to_csv(\"no_null_ids_netflix_df.csv\", index=False)"
      ],
      "metadata": {
        "id": "EUyxgBTCaU1-"
      },
      "execution_count": null,
      "outputs": []
    }
  ],
  "metadata": {
    "colab": {
      "provenance": [],
      "authorship_tag": "ABX9TyNkj/Fm4UoBUGvGsKLOb8Ko",
      "include_colab_link": true
    },
    "kernelspec": {
      "display_name": "Python 3",
      "name": "python3"
    },
    "language_info": {
      "name": "python"
    }
  },
  "nbformat": 4,
  "nbformat_minor": 0
}